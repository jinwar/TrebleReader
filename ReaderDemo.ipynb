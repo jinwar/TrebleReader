{
 "cells": [
  {
   "cell_type": "code",
   "execution_count": null,
   "metadata": {},
   "outputs": [],
   "source": []
  },
  {
   "cell_type": "code",
   "execution_count": 1,
   "metadata": {},
   "outputs": [],
   "source": [
    "import TerraRead\n",
    "\n",
    "# file name, replace with yours\n",
    "filename = 'D:\\\\Projects\\\\FORP\\\\Data\\\\Treble\\\\20201202\\\\UTC-YMD20201202-HMS174339.516\\\\Kafadar_Coupling_deformation_UTC-YMD20201202-HMS175010.762_seq_00000000003.hdf5'\n",
    "\n",
    "DASdata = TerraRead.TerraRead_V1(filename)\n",
    "DASdata.read_data() # read the data\n",
    "# apply gauge length (odd channel number), convert deformation to strain\n",
    "DASdata.apply_gauge_length(5) "
   ]
  },
  {
   "cell_type": "code",
   "execution_count": 4,
   "metadata": {},
   "outputs": [
    {
     "name": "stdout",
     "output_type": "stream",
     "text": [
      "start time 2020-12-02 10:50:10.761975\n",
      "dt in second: 0.00022384\n",
      "dx in meter: 2.4502857212913773\n",
      "deformation data: (582624, 816)\n",
      "strain data: (582624, 816)\n"
     ]
    }
   ],
   "source": [
    "print('start time',DASdata.start_time)\n",
    "print('dt in second:',DASdata.dt)\n",
    "print('dx in meter:',DASdata.dx)\n",
    "print('deformation data:',DASdata.data.shape)\n",
    "print('strain data:',DASdata.strain_data.shape)"
   ]
  }
 ],
 "metadata": {
  "kernelspec": {
   "display_name": "Python 3",
   "language": "python",
   "name": "python3"
  },
  "language_info": {
   "codemirror_mode": {
    "name": "ipython",
    "version": 3
   },
   "file_extension": ".py",
   "mimetype": "text/x-python",
   "name": "python",
   "nbconvert_exporter": "python",
   "pygments_lexer": "ipython3",
   "version": "3.7.8"
  }
 },
 "nbformat": 4,
 "nbformat_minor": 4
}
